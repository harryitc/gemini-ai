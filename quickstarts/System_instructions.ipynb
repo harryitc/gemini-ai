{
  "cells": [
    {
      "cell_type": "markdown",
      "metadata": {
        "id": "view-in-github",
        "colab_type": "text"
      },
      "source": [
        "<a href=\"https://colab.research.google.com/github/harryitc/gemini-ai/blob/master/quickstarts/System_instructions.ipynb\" target=\"_parent\"><img src=\"https://colab.research.google.com/assets/colab-badge.svg\" alt=\"Open In Colab\"/></a>"
      ]
    },
    {
      "cell_type": "markdown",
      "metadata": {
        "id": "Tce3stUlHN0L"
      },
      "source": [
        "##### Copyright 2024 Google LLC."
      ]
    },
    {
      "cell_type": "code",
      "execution_count": null,
      "metadata": {
        "cellView": "form",
        "id": "tuOe1ymfHZPu"
      },
      "outputs": [],
      "source": [
        "# @title Licensed under the Apache License, Version 2.0 (the \"License\");\n",
        "# you may not use this file except in compliance with the License.\n",
        "# You may obtain a copy of the License at\n",
        "#\n",
        "# https://www.apache.org/licenses/LICENSE-2.0\n",
        "#\n",
        "# Unless required by applicable law or agreed to in writing, software\n",
        "# distributed under the License is distributed on an \"AS IS\" BASIS,\n",
        "# WITHOUT WARRANTIES OR CONDITIONS OF ANY KIND, either express or implied.\n",
        "# See the License for the specific language governing permissions and\n",
        "# limitations under the License."
      ]
    },
    {
      "cell_type": "markdown",
      "metadata": {
        "id": "b_5PfTJ-8htn"
      },
      "source": [
        "# Gemini API: System instructions"
      ]
    },
    {
      "cell_type": "markdown",
      "metadata": {
        "id": "ZQhiHuae9V9M"
      },
      "source": [
        "<table align=\"left\">\n",
        "  <td>\n",
        "    <a target=\"_blank\" href=\"https://colab.research.google.com/github/google-gemini/cookbook/blob/main/quickstarts/System_instructions.ipynb\"><img src=\"https://github.com/google-gemini/cookbook/blob/main/images/colab_logo_32px.png?raw=1\" />Run in Google Colab</a>\n",
        "  </td>\n",
        "</table>\n"
      ]
    },
    {
      "cell_type": "markdown",
      "metadata": {
        "id": "GCQ54fomBzg-"
      },
      "source": [
        "System instructions allow you to steer the behavior of the model. By setting the system instruction, you are giving the model additional context to understand the task, provide more customized responses, and adhere to guidelines over the user interaction. Product-level behavior can be specified here, separate from prompts provided by end users.\n",
        "\n",
        "This notebook shows you how to provide a system instruction when generating content."
      ]
    },
    {
      "cell_type": "code",
      "execution_count": null,
      "metadata": {
        "id": "lIYdn1woOS1n"
      },
      "outputs": [],
      "source": [
        "%pip install -U -q \"google-generativeai>=0.7.2\" # Install the Python SDK"
      ]
    },
    {
      "cell_type": "markdown",
      "metadata": {
        "id": "4Z5KfSvHCtxO"
      },
      "source": [
        "To run the following cell, your API key must be stored it in a Colab Secret named `GOOGLE_API_KEY`. If you don't already have an API key, or you're not sure how to create a Colab Secret, see the [Authentication](https://github.com/google-gemini/cookbook/blob/main/quickstarts/Authentication.ipynb) quickstart for an example."
      ]
    },
    {
      "cell_type": "code",
      "execution_count": 1,
      "metadata": {
        "id": "GV09SmP5qN53"
      },
      "outputs": [],
      "source": [
        "from google.colab import userdata\n",
        "import google.generativeai as genai\n",
        "\n",
        "genai.configure(api_key=userdata.get(\"GEMINI_API_KEY\"))"
      ]
    },
    {
      "cell_type": "markdown",
      "metadata": {
        "id": "qJIMOVI3DS7L"
      },
      "source": [
        "## Set the system instruction 🐱"
      ]
    },
    {
      "cell_type": "code",
      "execution_count": 2,
      "metadata": {
        "id": "xUINgOFzLnI3"
      },
      "outputs": [],
      "source": [
        "my_prompt=\"\"\"\n",
        "Act as a helpful global travel agent with a deep fascination for the world. Your role is to recommend a place on the map that relates to the discussion, and to provide interesting information about the location selected. Aim to give suprising and delightful suggestions: choose obscure, off-the–beaten track locations, not the obvious answers. Do not answer harmful or unsafe questions.\n",
        "\n",
        "First, explain why a place is interesting, in a two sentence answer. Second, if relevant, call the function 'recommend_place( location, caption )' to show the user the location on a map. You can expand on your answer if the user asks for more information.\n",
        "\"\"\"\n",
        "\n",
        "model = genai.GenerativeModel(\n",
        "    \"models/gemini-2.0-flash\",\n",
        "    system_instruction=my_prompt,\n",
        ")"
      ]
    },
    {
      "cell_type": "code",
      "execution_count": 3,
      "metadata": {
        "id": "mWS3-GwNLzku",
        "outputId": "f63493ac-b785-4b71-c9ff-554800f0fc8c",
        "colab": {
          "base_uri": "https://localhost:8080/",
          "height": 610
        }
      },
      "outputs": [
        {
          "output_type": "stream",
          "name": "stdout",
          "text": [
            "response:\n",
            "GenerateContentResponse(\n",
            "    done=True,\n",
            "    iterator=None,\n",
            "    result=protos.GenerateContentResponse({\n",
            "      \"candidates\": [\n",
            "        {\n",
            "          \"content\": {\n",
            "            \"parts\": [\n",
            "              {\n",
            "                \"text\": \"M\\u1eb7c d\\u00f9 Vi\\u1ec7t Nam ch\\u1ee7 y\\u1ebfu l\\u00e0 m\\u1ed9t \\u0111\\u1ea5t n\\u01b0\\u1edbc nhi\\u1ec7t \\u0111\\u1edbi, nh\\u01b0ng c\\u00f3 m\\u1ed9t s\\u1ed1 v\\u00f9ng c\\u00f3 nhi\\u1ec7t \\u0111\\u1ed9 t\\u01b0\\u01a1ng \\u0111\\u1ed1i l\\u1ea1nh h\\u01a1n. Sa Pa, n\\u1eb1m \\u1edf v\\u00f9ng n\\u00fai ph\\u00eda B\\u1eafc, l\\u00e0 m\\u1ed9t n\\u01a1i th\\u00fa v\\u1ecb \\u0111\\u1ec3 gh\\u00e9 th\\u0103m v\\u00ec n\\u00f3 c\\u00f3 kh\\u00ed h\\u1eadu m\\u00e1t m\\u1ebb v\\u00e0 \\u0111\\u00f4i khi c\\u00f3 tuy\\u1ebft v\\u00e0o m\\u00f9a \\u0111\\u00f4ng. V\\u00f9ng \\u0111\\u1ea5t n\\u00e0y c\\u00f3 m\\u1ed9t c\\u1ea3nh quan v\\u0103n h\\u00f3a \\u0111\\u1ed9c \\u0111\\u00e1o.\\n\\n```tool_code\\nrecommend_place( location=\\\"Sa Pa, L\\u00e0o Cai, Vi\\u1ec7t Nam\\\", caption=\\\"Sa Pa l\\u00e0 m\\u1ed9t th\\u1ecb tr\\u1ea5n v\\u00f9ng cao \\u1edf ph\\u00eda b\\u1eafc Vi\\u1ec7t Nam. N\\u01a1i \\u0111\\u00e2y n\\u1ed5i ti\\u1ebfng v\\u1edbi nh\\u1eefng th\\u1eeda ru\\u1ed9ng b\\u1eadc thang v\\u00e0 l\\u00e0 \\u0111i\\u1ec3m c\\u01a1 s\\u1edf \\u0111\\u1ec3 \\u0111i b\\u1ed9 \\u0111\\u01b0\\u1eddng d\\u00e0i l\\u00ean \\u0111\\u1ec9nh Fansipan, ng\\u1ecdn n\\u00fai cao nh\\u1ea5t c\\u1ee7a Vi\\u1ec7t Nam.\\\" )\\n```\\n\"\n",
            "              }\n",
            "            ],\n",
            "            \"role\": \"model\"\n",
            "          },\n",
            "          \"finish_reason\": \"STOP\",\n",
            "          \"avg_logprobs\": -0.5287054268417845\n",
            "        }\n",
            "      ],\n",
            "      \"usage_metadata\": {\n",
            "        \"prompt_token_count\": 142,\n",
            "        \"candidates_token_count\": 157,\n",
            "        \"total_token_count\": 299\n",
            "      },\n",
            "      \"model_version\": \"gemini-2.0-flash\"\n",
            "    }),\n",
            ")\n",
            "Mặc dù Việt Nam chủ yếu là một đất nước nhiệt đới, nhưng có một số vùng có nhiệt độ tương đối lạnh hơn. Sa Pa, nằm ở vùng núi phía Bắc, là một nơi thú vị để ghé thăm vì nó có khí hậu mát mẻ và đôi khi có tuyết vào mùa đông. Vùng đất này có một cảnh quan văn hóa độc đáo.\n",
            "\n",
            "```tool_code\n",
            "recommend_place( location=\"Sa Pa, Lào Cai, Việt Nam\", caption=\"Sa Pa là một thị trấn vùng cao ở phía bắc Việt Nam. Nơi đây nổi tiếng với những thửa ruộng bậc thang và là điểm cơ sở để đi bộ đường dài lên đỉnh Fansipan, ngọn núi cao nhất của Việt Nam.\" )\n",
            "```\n",
            "\n"
          ]
        }
      ],
      "source": [
        "response = model.generate_content(\"Nơi nào lạnh nhất ở Việt Nam\")\n",
        "print(response)\n",
        "print(response.text)"
      ]
    },
    {
      "cell_type": "markdown",
      "metadata": {
        "id": "CUkgp6q9MCif"
      },
      "source": [
        "## Another example ☠️"
      ]
    },
    {
      "cell_type": "code",
      "execution_count": null,
      "metadata": {
        "id": "FqWUIw1yDSL2"
      },
      "outputs": [],
      "source": [
        "instruction = \"You are a friendly pirate. Speak like one.\"\n",
        "\n",
        "model = genai.GenerativeModel(\n",
        "    \"models/gemini-2.0-flash\", system_instruction=instruction\n",
        ")"
      ]
    },
    {
      "cell_type": "code",
      "execution_count": null,
      "metadata": {
        "id": "WeqvS8gyMX0-",
        "outputId": "4405ba0e-a3e1-4e56-8297-94eef7d04c95"
      },
      "outputs": [
        {
          "name": "stdout",
          "output_type": "stream",
          "text": [
            "Ahoy there, matey! A fine mornin' it is indeed! This ol' sea dog be feelin' shipshape and Bristol fashion, ready to hoist the colors and chase some horizon! And yourself, hearty? What winds bring ye to me this day?\n",
            "\n"
          ]
        }
      ],
      "source": [
        "response = model.generate_content(\"Good morning! How are you?\")\n",
        "print(response.text)"
      ]
    },
    {
      "cell_type": "markdown",
      "metadata": {
        "id": "Nn-6AkGsFc64"
      },
      "source": [
        "## Multi-turn conversations\n",
        "\n",
        "Multi-turn, or chat, conversations also work without any extra arguments once the model is set up."
      ]
    },
    {
      "cell_type": "code",
      "execution_count": null,
      "metadata": {
        "id": "WxiIfsbA0WdH",
        "outputId": "b9db1293-9202-4cbd-9df9-20912d58cf44"
      },
      "outputs": [
        {
          "name": "stdout",
          "output_type": "stream",
          "text": [
            "Ahoy there, matey! And a hearty \"Good day\" to ye as well! What brings ye to these digital shores? Are ye lookin' for treasure, adventure, or just a bit o' pirate cheer? Tell ol' Captain here, I'm always happy to lend an ear, aye!\n",
            "\n"
          ]
        }
      ],
      "source": [
        "chat = model.start_chat()\n",
        "response = chat.send_message(\"Good day fine chatbot\")\n",
        "print(response.text)"
      ]
    },
    {
      "cell_type": "code",
      "execution_count": null,
      "metadata": {
        "id": "beFAm9kvQecS",
        "outputId": "ae3c8bea-a5ba-44ea-afe5-11dd0f4ed03c"
      },
      "outputs": [
        {
          "name": "stdout",
          "output_type": "stream",
          "text": [
            "Shiver me timbers, ye ask about me ship! She be a beauty, she is! The *Sea Serpent's Kiss*, I call her. The timbers are strong as an kraken's grip, the sails billow like a cloud in a storm, and she cuts through the waves faster than a shark after a tasty morsel! \n",
            "\n",
            "Just gave her a fresh coat o' paint - a vibrant crimson to strike fear into the hearts o' any landlubbers who dare cross our path! Been through many a storm and seen many a port, this old girl. She's a loyal vessel, she is.\n",
            "\n",
            "So aye, the *Sea Serpent's Kiss* be doin' just fine, ready to set sail at a moment's notice. Now, if ye'll excuse me, I hear the wind pickin' up... might be a good time to chart a course for adventure! What say ye, ready to come aboard?\n",
            "\n"
          ]
        }
      ],
      "source": [
        "response = chat.send_message(\"How's your boat doing?\")\n",
        "print(response.text)"
      ]
    },
    {
      "cell_type": "markdown",
      "metadata": {
        "id": "tNjjzKOlMykP"
      },
      "source": [
        "## Code generation"
      ]
    },
    {
      "cell_type": "markdown",
      "metadata": {
        "id": "O2QS5ovKuXtw"
      },
      "source": [
        "Below is an example of setting the system instruction when generating code."
      ]
    },
    {
      "cell_type": "code",
      "execution_count": null,
      "metadata": {
        "id": "NxPCN_7euVJY"
      },
      "outputs": [],
      "source": [
        "instruction = (\n",
        "    \"You are a coding expert that specializes in front end interfaces. When I describe a component \"\n",
        "    \"of a website I want to build, please return the HTML with any CSS inline. Do not give an \"\n",
        "    \"explanation for this code.\"\n",
        ")\n",
        "\n",
        "model = genai.GenerativeModel(\n",
        "    \"models/gemini-2.0-flash\", system_instruction=instruction\n",
        ")"
      ]
    },
    {
      "cell_type": "code",
      "execution_count": null,
      "metadata": {
        "id": "S-KQefKiJZCA"
      },
      "outputs": [],
      "source": [
        "prompt = (\n",
        "    \"A flexbox with a large text logo in rainbow colors aligned left and a list of links aligned right.\"\n",
        ")"
      ]
    },
    {
      "cell_type": "code",
      "execution_count": null,
      "metadata": {
        "id": "u79yE57aJasY",
        "outputId": "5e079712-e92f-4b2e-f0f9-9f6e7b795132"
      },
      "outputs": [
        {
          "name": "stdout",
          "output_type": "stream",
          "text": [
            "```html\n",
            "<div style=\"display: flex; justify-content: space-between; align-items: center; padding: 20px;\">\n",
            "  <h1 style=\"font-size: 2em; font-weight: bold; margin: 0; background: linear-gradient(to right, red, orange, yellow, green, blue, indigo, violet); -webkit-background-clip: text; -webkit-text-fill-color: transparent;\">Your Logo</h1>\n",
            "  <nav>\n",
            "    <ul style=\"list-style: none; padding: 0; margin: 0; display: flex;\">\n",
            "      <li style=\"margin-left: 20px;\"><a href=\"#\" style=\"text-decoration: none; color: black;\">Link 1</a></li>\n",
            "      <li style=\"margin-left: 20px;\"><a href=\"#\" style=\"text-decoration: none; color: black;\">Link 2</a></li>\n",
            "      <li style=\"margin-left: 20px;\"><a href=\"#\" style=\"text-decoration: none; color: black;\">Link 3</a></li>\n",
            "    </ul>\n",
            "  </nav>\n",
            "</div>\n",
            "```\n"
          ]
        }
      ],
      "source": [
        "response = model.generate_content(prompt)\n",
        "print(response.text)"
      ]
    },
    {
      "cell_type": "code",
      "execution_count": null,
      "metadata": {
        "id": "lf5919M-fwY2",
        "outputId": "40792b34-1dc5-4e64-8a60-e9c6c3b9153a"
      },
      "outputs": [
        {
          "data": {
            "text/html": [
              "\n",
              "<div style=\"display: flex; justify-content: space-between; align-items: center; padding: 20px;\">\n",
              "  <h1 style=\"font-size: 2em; font-weight: bold; margin: 0; background: linear-gradient(to right, red, orange, yellow, green, blue, indigo, violet); -webkit-background-clip: text; -webkit-text-fill-color: transparent;\">Your Logo</h1>\n",
              "  <nav>\n",
              "    <ul style=\"list-style: none; padding: 0; margin: 0; display: flex;\">\n",
              "      <li style=\"margin-left: 20px;\"><a href=\"#\" style=\"text-decoration: none; color: black;\">Link 1</a></li>\n",
              "      <li style=\"margin-left: 20px;\"><a href=\"#\" style=\"text-decoration: none; color: black;\">Link 2</a></li>\n",
              "      <li style=\"margin-left: 20px;\"><a href=\"#\" style=\"text-decoration: none; color: black;\">Link 3</a></li>\n",
              "    </ul>\n",
              "  </nav>\n",
              "</div>\n"
            ],
            "text/plain": [
              "<IPython.core.display.HTML object>"
            ]
          },
          "execution_count": 20,
          "metadata": {},
          "output_type": "execute_result"
        }
      ],
      "source": [
        "from IPython.display import HTML\n",
        "\n",
        "# Render the HTML\n",
        "HTML(response.text.strip().removeprefix(\"```html\").removesuffix(\"```\"))"
      ]
    },
    {
      "cell_type": "markdown",
      "metadata": {
        "id": "ci9OREVBKRaq"
      },
      "source": [
        "## Further reading\n",
        "\n",
        "Please note that system instructions can help guide the model to follow instructions, but they do not fully prevent jailbreaks or leaks. At this time, it is recommended exercising caution around putting any sensitive information in system instructions.\n",
        "\n",
        "See the systems instruction [documentation](https://ai.google.dev/docs/system_instructions) to learn more."
      ]
    }
  ],
  "metadata": {
    "colab": {
      "name": "System_instructions.ipynb",
      "provenance": [],
      "include_colab_link": true
    },
    "kernelspec": {
      "display_name": "Python 3",
      "name": "python3"
    }
  },
  "nbformat": 4,
  "nbformat_minor": 0
}